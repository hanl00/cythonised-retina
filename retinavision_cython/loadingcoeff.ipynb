{
 "cells": [
  {
   "cell_type": "code",
   "execution_count": 1,
   "metadata": {},
   "outputs": [
    {
     "name": "stdout",
     "output_type": "stream",
     "text": [
      "C:\\Users\\Nicholas\\Documents\\University @ Glasgow\\Year 5\\cython_test\\retinavision_cython\n"
     ]
    }
   ],
   "source": [
    "%load_ext Cython\n",
    "import numpy as np\n",
    "from cython.parallel import prange\n",
    "import numpy as np\n",
    "import time\n",
    "import sys\n",
    "import os\n",
    "import torch\n",
    "import pickle\n",
    "\n",
    "sys.path.append('C:\\\\Users\\\\Nicholas\\\\Documents\\\\University @ Glasgow\\\\Year 5\\\\cython_test\\\\retinavision')\n",
    "import retinavision\n",
    "from os.path import dirname, join\n",
    "datadir = os.path.dirname(os.path.abspath(\"__file__\"))\n",
    "print(datadir)\n",
    "\n",
    "size = 400\n",
    "iterations = 100"
   ]
  },
  {
   "cell_type": "code",
   "execution_count": 2,
   "metadata": {},
   "outputs": [],
   "source": [
    "def loadPickle(path):\n",
    "    with open(path, 'rb') as handle:\n",
    "          return pickle.load(handle, encoding='latin1')"
   ]
  },
  {
   "cell_type": "code",
   "execution_count": 3,
   "metadata": {},
   "outputs": [],
   "source": [
    "x = join(datadir, \"data\", \"retinas\", \"ret50k_coeff.pkl\")\n",
    "rf_coeff = loadPickle(x)"
   ]
  },
  {
   "cell_type": "code",
   "execution_count": 19,
   "metadata": {},
   "outputs": [
    {
     "name": "stdout",
     "output_type": "stream",
     "text": [
      "50000\n",
      "50000\n",
      "49967\n"
     ]
    }
   ],
   "source": [
    "original = rf_coeff\n",
    "no_list = rf_coeff[0]\n",
    "output_list = []\n",
    "output_list_2 = []\n",
    "\n",
    "#get the largest size\n",
    "desired_rows, desired_columns = 0, 0\n",
    "\n",
    "for item in no_list:\n",
    "    if item.shape > (desired_rows, desired_columns):\n",
    "        desired_rows, desired_columns = item.shape\n",
    "    \n",
    "for x in no_list:\n",
    "    if x.shape != (desired_rows, desired_columns):\n",
    "        b = np.pad(x, ((0, desired_rows-x.shape[0]), (0, desired_columns-x.shape[1])), 'constant', constant_values=0)\n",
    "    output_list.append(b)\n",
    "\n",
    "\n",
    "for x in rf_coeff[0]:\n",
    "    if x.shape != (desired_rows, desired_columns):\n",
    "        b = np.pad(x, ((0, desired_rows-x.shape[0]), (0, desired_columns-x.shape[1])), 'constant', constant_values=0)\n",
    "        output_list_2.append(b)\n",
    "    else:\n",
    "        output_list_2.append(x)\n",
    "        \n",
    "print(len(output_list_2))\n",
    "print(len(output_list))\n",
    "\n",
    "count = 0\n",
    "for index, (first, second) in enumerate(zip(output_list, output_list_2)):\n",
    "        if (first==second).all():\n",
    "            continue\n",
    "        else:\n",
    "            count += 1\n",
    "            \n",
    "print(len(output_list) - count)"
   ]
  },
  {
   "cell_type": "code",
   "execution_count": null,
   "metadata": {},
   "outputs": [],
   "source": [
    "print(d[1])"
   ]
  },
  {
   "cell_type": "code",
   "execution_count": null,
   "metadata": {},
   "outputs": [],
   "source": [
    "original = rf_coeff\n",
    "no_list = rf_coeff[0]\n",
    "output_list = []\n",
    "total_elements = 0\n",
    "for x in no_list:\n",
    "    total_elements += x.size\n",
    "    \n",
    "for x in no_list:\n",
    "    one_d = x.ravel()\n",
    "    output_list.append(one_d)\n",
    "\n",
    "output_list_2 = [item for sublist in output_list for item in sublist]\n",
    "arr = np.array(output_list_2)\n",
    "print(total_elements)\n",
    "print(no_list[0])\n",
    "print(arr[0:9])\n"
   ]
  },
  {
   "cell_type": "code",
   "execution_count": null,
   "metadata": {},
   "outputs": [],
   "source": []
  },
  {
   "cell_type": "code",
   "execution_count": null,
   "metadata": {},
   "outputs": [],
   "source": [
    "%%cython\n",
    "import numpy as np\n",
    "\n",
    "cdef cnp.float64_t[:] coeff_memory_view = ravelled\n",
    "\n",
    "def mandelbrot_cython(mem_view):\n",
    "    cdef float m = 0\n",
    "    for i in range(size(mem_view)):\n",
    "        m += mem_view[i]\n",
    "        \n",
    "    return m        "
   ]
  },
  {
   "cell_type": "code",
   "execution_count": null,
   "metadata": {},
   "outputs": [],
   "source": [
    "s = (size, size)"
   ]
  },
  {
   "cell_type": "code",
   "execution_count": null,
   "metadata": {},
   "outputs": [],
   "source": [
    "%%timeit -n1 -r1 m = np.zeros(s, dtype=np.int32)\n",
    "mandelbrot_cython(m, size, iterations)"
   ]
  },
  {
   "cell_type": "code",
   "execution_count": null,
   "metadata": {},
   "outputs": [],
   "source": [
    "%%cython\n",
    "import numpy as np\n",
    "\n",
    "def mandelbrot_cython(int[:,::1] m,\n",
    "                      int size,\n",
    "                      int iterations):\n",
    "    cdef int i, j, n\n",
    "    cdef complex z, c\n",
    "    for i in range(size):\n",
    "        for j in range(size):\n",
    "            c = -2 + 3./size*j + 1j*(1.5-3./size*i)\n",
    "            z = 0\n",
    "            for n in range(iterations):\n",
    "                if z.real**2 + z.imag**2 <= 100:\n",
    "                    z = z*z + c\n",
    "                    m[i, j] = n\n",
    "                else:\n",
    "                    break"
   ]
  },
  {
   "cell_type": "code",
   "execution_count": null,
   "metadata": {},
   "outputs": [],
   "source": [
    "%%timeit -n1 -r1 m = np.zeros(s, dtype=np.int32)\n",
    "mandelbrot_cython(m, size, iterations)"
   ]
  },
  {
   "cell_type": "code",
   "execution_count": null,
   "metadata": {
    "scrolled": true
   },
   "outputs": [],
   "source": [
    "from numba import jit\n",
    "\n",
    "@jit\n",
    "def numba_mean(x):\n",
    "    total = 0\n",
    "    for xi in x:\n",
    "        total += xi\n",
    "    return total / len(x)\n"
   ]
  },
  {
   "cell_type": "code",
   "execution_count": null,
   "metadata": {},
   "outputs": [],
   "source": [
    " %load_ext Cython"
   ]
  },
  {
   "cell_type": "code",
   "execution_count": null,
   "metadata": {},
   "outputs": [],
   "source": [
    "%%cython\n",
    "def f(n):\n",
    "    x = 0\n",
    "    for i in range(n):\n",
    "        x += i\n",
    "    return x\n",
    "\n",
    "##cythonised version\n",
    "cpdef g(int n):\n",
    "    cdef long x = 0\n",
    "    cdef int i\n",
    "    for i in range(n):\n",
    "        x += i\n",
    "    return x"
   ]
  },
  {
   "cell_type": "code",
   "execution_count": null,
   "metadata": {},
   "outputs": [],
   "source": [
    "%timeit f(1000000)"
   ]
  },
  {
   "cell_type": "code",
   "execution_count": null,
   "metadata": {},
   "outputs": [],
   "source": [
    "%timeit g(1000000)"
   ]
  },
  {
   "cell_type": "code",
   "execution_count": null,
   "metadata": {},
   "outputs": [],
   "source": []
  }
 ],
 "metadata": {
  "kernelspec": {
   "display_name": "Python 3",
   "language": "python",
   "name": "python3"
  },
  "language_info": {
   "codemirror_mode": {
    "name": "ipython",
    "version": 3
   },
   "file_extension": ".py",
   "mimetype": "text/x-python",
   "name": "python",
   "nbconvert_exporter": "python",
   "pygments_lexer": "ipython3",
   "version": "3.8.3"
  }
 },
 "nbformat": 4,
 "nbformat_minor": 4
}
