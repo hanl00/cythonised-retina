{
 "metadata": {
  "language_info": {
   "codemirror_mode": {
    "name": "ipython",
    "version": 3
   },
   "file_extension": ".py",
   "mimetype": "text/x-python",
   "name": "python",
   "nbconvert_exporter": "python",
   "pygments_lexer": "ipython3",
   "version": "3.8.3-final"
  },
  "orig_nbformat": 2,
  "kernelspec": {
   "name": "python3",
   "display_name": "Python 3"
  }
 },
 "nbformat": 4,
 "nbformat_minor": 2,
 "cells": [
  {
   "cell_type": "code",
   "execution_count": 1,
   "metadata": {},
   "outputs": [
    {
     "output_type": "stream",
     "name": "stdout",
     "text": [
      "c:\\Users\\Nicholas\\Documents\\University @ Glasgow\\Year 5\\cython_test\\retinavision_cython\n"
     ]
    }
   ],
   "source": [
    "import numpy as np\n",
    "import time\n",
    "\n",
    "sys.path.append('C:\\\\Users\\\\Nicholas\\\\Documents\\\\University @ Glasgow\\\\Year 5\\\\cython_test\\\\retinavision')\n",
    "import retinavision\n",
    "from os.path import dirname, join\n",
    "datadir = os.path.dirname(os.path.abspath(\"__file__\"))\n",
    "print(datadir)"
   ]
  },
  {
   "cell_type": "code",
   "execution_count": 20,
   "metadata": {},
   "outputs": [
    {
     "output_type": "stream",
     "name": "stdout",
     "text": [
      "<class 'numpy.ndarray'>\n2\n(50000,)\nobject\n[[0.00025503 0.00076988 0.00166158 0.00256383 0.0028283  0.00223065\n  0.00125778 0.00050705 0.00014614]\n [0.00088031 0.00265746 0.00573542 0.00884978 0.00976267 0.0076997\n  0.00434158 0.00175021 0.00050443]\n [0.00217244 0.0065581  0.01415392 0.02183957 0.02409241 0.01900139\n  0.01071419 0.00431919 0.00124484]\n [0.00383292 0.01157068 0.02497223 0.03853227 0.04250704 0.03352478\n  0.0189034  0.00762049 0.00219632]\n [0.0048348  0.01459514 0.03149973 0.04860424 0.05361797 0.04228784\n  0.02384457 0.00961241 0.00277041]\n [0.00436011 0.01316215 0.02840699 0.04383213 0.04835359 0.03813589\n  0.02150344 0.00866864 0.0024984 ]\n [0.00281115 0.00848622 0.01831524 0.0282605  0.03117569 0.02458788\n  0.01386421 0.00558905 0.00161083]\n [0.00129581 0.00391174 0.00844245 0.01302675 0.01437051 0.01133385\n  0.00639074 0.00257629 0.00074252]\n [0.00042704 0.00128913 0.00278223 0.004293   0.00473584 0.0037351\n  0.00210609 0.00084902 0.0002447 ]]\n"
     ]
    }
   ],
   "source": [
    "R = retinavision.Retina()\n",
    "R.loadLoc(join(datadir, \"data\", \"retinas\", \"ret50k_loc.pkl\"))\n",
    "R.loadCoeff(join(datadir, \"data\", \"retinas\", \"ret50k_coeff.pkl\"))\n",
    "\n",
    "X = R.coeff\n",
    "print(type(X))\n",
    "print(X.ndim)\n",
    "print(X[0].shape)\n",
    "print(X[0].dtype)\n",
    "print(X[0][20000])"
   ]
  },
  {
   "cell_type": "code",
   "execution_count": 10,
   "metadata": {},
   "outputs": [
    {
     "output_type": "stream",
     "name": "stdout",
     "text": [
      "[[1. 0. 1.]\n [0. 1. 1.]\n [1. 0. 1.]\n [0. 0. 1.]\n [0. 0. 1.]\n [0. 1. 1.]]\n"
     ]
    }
   ],
   "source": [
    "# %timeit  np.where(np.isnan(nan_array), 0, 1.0) \n",
    "print(np.where(np.isnan(nan_array), 0, 1.0))"
   ]
  },
  {
   "cell_type": "code",
   "execution_count": 50,
   "metadata": {},
   "outputs": [
    {
     "output_type": "stream",
     "name": "stdout",
     "text": [
      "[[ 2. nan  1.]\n [nan nan  1.]\n [nan nan  1.]\n [nan nan  1.]\n [nan nan  1.]\n [nan nan  1.]]\n"
     ]
    }
   ],
   "source": [
    "nan_array_2[np.unravel_index(np.where(nan_array_2.ravel()==8),nan_array_2.shape)] = 2\n",
    "print(nan_array_2)"
   ]
  },
  {
   "cell_type": "code",
   "execution_count": null,
   "metadata": {},
   "outputs": [],
   "source": []
  }
 ]
}