{
 "cells": [
  {
   "cell_type": "code",
   "execution_count": 1,
   "metadata": {},
   "outputs": [
    {
     "name": "stdout",
     "output_type": "stream",
     "text": [
      "c:\\Users\\Nicholas\\Documents\\University @ Glasgow\\Year 5\\cython_test\\retinavision_cython\n"
     ]
    }
   ],
   "source": [
    "import numpy as np\n",
    "import time\n",
    "\n",
    "sys.path.append('C:\\\\Users\\\\Nicholas\\\\Documents\\\\University @ Glasgow\\\\Year 5\\\\cython_test\\\\retinavision')\n",
    "import retinavision\n",
    "from os.path import dirname, join\n",
    "datadir = os.path.dirname(os.path.abspath(\"__file__\"))\n",
    "print(datadir)"
   ]
  },
  {
   "cell_type": "code",
   "execution_count": 20,
   "metadata": {
    "tags": []
   },
   "outputs": [
    {
     "name": "stdout",
     "output_type": "stream",
     "text": [
      "loc inital shape\n",
      "(50000, 7)\n",
      "first element in l\n",
      "<class 'numpy.ndarray'> [0.         0.         0.45854898 1.20502355 1.01582087 0.50791043\n",
      " 3.        ]\n",
      "y initial shape\n",
      "(1, 50000)\n",
      "first element in y\n",
      "<class 'numpy.ndarray'>\n",
      "reshaped once\n",
      "(50000, 1)\n",
      "first element in x\n",
      "<class 'numpy.ndarray'> [array([[0.00086751, 0.01137962, 0.0030938 ],\n",
      "       [0.03168941, 0.41568714, 0.11301366],\n",
      "       [0.02399191, 0.31471483, 0.08556212]])]\n",
      "squeezed once\n",
      "(50000,)\n",
      "first element in z\n",
      "<class 'numpy.ndarray'> [[0.00086751 0.01137962 0.0030938 ]\n",
      " [0.03168941 0.41568714 0.11301366]\n",
      " [0.02399191 0.31471483 0.08556212]]\n"
     ]
    }
   ],
   "source": [
    "R = retinavision.Retina()\n",
    "R.loadLoc(join(datadir, \"data\", \"retinas\", \"ret50k_loc.pkl\"))\n",
    "R.loadCoeff(join(datadir, \"data\", \"retinas\", \"ret50k_coeff.pkl\"))\n",
    "\n",
    "l = R.loc\n",
    "print(\"loc inital shape\")\n",
    "print(l.shape)\n",
    "print(\"first element in l\")\n",
    "print(type(l[0]), l[0])\n",
    "\n",
    "y = R.coeff\n",
    "print(\"y initial shape\")\n",
    "print(y.shape)\n",
    "print(\"first element in y\")\n",
    "print(type(y[0]))\n",
    "x = y.reshape(50000,1)\n",
    "print(\"reshaped once\")\n",
    "print(x.shape)\n",
    "print(\"first element in x\")\n",
    "print(type(x[0]), x[0])\n",
    "z = np.squeeze(x)\n",
    "print(\"squeezed once\")\n",
    "print(z.shape)\n",
    "print(\"first element in z\")\n",
    "print(type(z[0]), z[0][0])"
   ]
  },
  {
   "cell_type": "code",
   "execution_count": 10,
   "metadata": {},
   "outputs": [
    {
     "name": "stdout",
     "output_type": "stream",
     "text": [
      "[[1. 0. 1.]\n",
      " [0. 1. 1.]\n",
      " [1. 0. 1.]\n",
      " [0. 0. 1.]\n",
      " [0. 0. 1.]\n",
      " [0. 1. 1.]]\n"
     ]
    }
   ],
   "source": [
    "# %timeit  np.where(np.isnan(nan_array), 0, 1.0) \n",
    "print(np.where(np.isnan(nan_array), 0, 1.0))"
   ]
  },
  {
   "cell_type": "code",
   "execution_count": 50,
   "metadata": {},
   "outputs": [
    {
     "name": "stdout",
     "output_type": "stream",
     "text": [
      "[[ 2. nan  1.]\n",
      " [nan nan  1.]\n",
      " [nan nan  1.]\n",
      " [nan nan  1.]\n",
      " [nan nan  1.]\n",
      " [nan nan  1.]]\n"
     ]
    }
   ],
   "source": [
    "nan_array_2[np.unravel_index(np.where(nan_array_2.ravel()==8),nan_array_2.shape)] = 2\n",
    "print(nan_array_2)"
   ]
  },
  {
   "cell_type": "code",
   "execution_count": null,
   "metadata": {},
   "outputs": [],
   "source": []
  }
 ],
 "metadata": {
  "kernelspec": {
   "display_name": "Python 3",
   "language": "python",
   "name": "python3"
  },
  "language_info": {
   "codemirror_mode": {
    "name": "ipython",
    "version": 3
   },
   "file_extension": ".py",
   "mimetype": "text/x-python",
   "name": "python",
   "nbconvert_exporter": "python",
   "pygments_lexer": "ipython3",
   "version": "3.8.3"
  }
 },
 "nbformat": 4,
 "nbformat_minor": 2
}
