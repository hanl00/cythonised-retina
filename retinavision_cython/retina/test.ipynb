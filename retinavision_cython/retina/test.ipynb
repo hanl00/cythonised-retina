{
 "metadata": {
  "language_info": {
   "codemirror_mode": {
    "name": "ipython",
    "version": 3
   },
   "file_extension": ".py",
   "mimetype": "text/x-python",
   "name": "python",
   "nbconvert_exporter": "python",
   "pygments_lexer": "ipython3",
   "version": "3.8.3-final"
  },
  "orig_nbformat": 2,
  "kernelspec": {
   "name": "python3",
   "display_name": "Python 3"
  }
 },
 "nbformat": 4,
 "nbformat_minor": 2,
 "cells": [
  {
   "cell_type": "code",
   "execution_count": 6,
   "metadata": {},
   "outputs": [],
   "source": [
    "import numpy as np\n",
    "import time\n",
    "\n",
    "# import pyximport\n",
    "# pyximport.install(reload_support=True)\n",
    "# import retina_sample"
   ]
  },
  {
   "cell_type": "code",
   "execution_count": 9,
   "metadata": {},
   "outputs": [],
   "source": [
    "nan_array = np.array([[54, np.nan, 1.0], [np.nan, 3434, 1.0], [343, np.nan, 1.0], [np.nan, np.nan, 1.0], [np.nan, np.nan, 1.0], [np.nan, 345345, 1.0]])\n",
    "nan_array_2 = np.array([[8, np.nan, 1.0], [np.nan, np.nan, 1.0], [np.nan, np.nan, 1.0], [np.nan, np.nan, 1.0], [np.nan, np.nan, 1.0], [np.nan, np.nan, 1.0]])\n"
   ]
  },
  {
   "cell_type": "code",
   "execution_count": 10,
   "metadata": {},
   "outputs": [
    {
     "output_type": "stream",
     "name": "stdout",
     "text": [
      "[[1. 0. 1.]\n [0. 1. 1.]\n [1. 0. 1.]\n [0. 0. 1.]\n [0. 0. 1.]\n [0. 1. 1.]]\n"
     ]
    }
   ],
   "source": [
    "# %timeit  np.where(np.isnan(nan_array), 0, 1.0) \n",
    "print(np.where(np.isnan(nan_array), 0, 1.0))"
   ]
  },
  {
   "cell_type": "code",
   "execution_count": 50,
   "metadata": {},
   "outputs": [
    {
     "output_type": "stream",
     "name": "stdout",
     "text": [
      "[[ 2. nan  1.]\n [nan nan  1.]\n [nan nan  1.]\n [nan nan  1.]\n [nan nan  1.]\n [nan nan  1.]]\n"
     ]
    }
   ],
   "source": [
    "nan_array_2[np.unravel_index(np.where(nan_array_2.ravel()==8),nan_array_2.shape)] = 2\n",
    "print(nan_array_2)"
   ]
  },
  {
   "cell_type": "code",
   "execution_count": null,
   "metadata": {},
   "outputs": [],
   "source": []
  }
 ]
}